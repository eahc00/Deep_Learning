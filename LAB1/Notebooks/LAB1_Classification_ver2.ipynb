{
 "cells": [
  {
   "cell_type": "code",
   "execution_count": 1,
   "id": "initial_id",
   "metadata": {
    "collapsed": true,
    "ExecuteTime": {
     "end_time": "2024-04-10T11:54:12.965682Z",
     "start_time": "2024-04-10T11:54:10.728031Z"
    }
   },
   "outputs": [],
   "source": [
    "import pandas as pd\n",
    "import matplotlib.pyplot as plt\n",
    "\n",
    "from sklearn.model_selection import train_test_split\n",
    "import torch\n",
    "import torch.nn as nn\n",
    "import torch.optim as optim\n",
    "from scipy.stats import zscore"
   ]
  },
  {
   "cell_type": "markdown",
   "source": [
    "### DataPreprocessing"
   ],
   "metadata": {
    "collapsed": false
   },
   "id": "574dd0d6d3149cd1"
  },
  {
   "cell_type": "code",
   "outputs": [
    {
     "data": {
      "text/plain": "   age  sex  cp  trtbps  chol  fbs  restecg  thalachh  exng  oldpeak  slp  \\\n0   63    1   3     145   233    1        0       150     0      2.3    0   \n1   37    1   2     130   250    0        1       187     0      3.5    0   \n2   41    0   1     130   204    0        0       172     0      1.4    2   \n3   56    1   1     120   236    0        1       178     0      0.8    2   \n4   57    0   0     120   354    0        1       163     1      0.6    2   \n\n   caa  thall  output  \n0    0      1       1  \n1    0      2       1  \n2    0      2       1  \n3    0      2       1  \n4    0      2       1  ",
      "text/html": "<div>\n<style scoped>\n    .dataframe tbody tr th:only-of-type {\n        vertical-align: middle;\n    }\n\n    .dataframe tbody tr th {\n        vertical-align: top;\n    }\n\n    .dataframe thead th {\n        text-align: right;\n    }\n</style>\n<table border=\"1\" class=\"dataframe\">\n  <thead>\n    <tr style=\"text-align: right;\">\n      <th></th>\n      <th>age</th>\n      <th>sex</th>\n      <th>cp</th>\n      <th>trtbps</th>\n      <th>chol</th>\n      <th>fbs</th>\n      <th>restecg</th>\n      <th>thalachh</th>\n      <th>exng</th>\n      <th>oldpeak</th>\n      <th>slp</th>\n      <th>caa</th>\n      <th>thall</th>\n      <th>output</th>\n    </tr>\n  </thead>\n  <tbody>\n    <tr>\n      <th>0</th>\n      <td>63</td>\n      <td>1</td>\n      <td>3</td>\n      <td>145</td>\n      <td>233</td>\n      <td>1</td>\n      <td>0</td>\n      <td>150</td>\n      <td>0</td>\n      <td>2.3</td>\n      <td>0</td>\n      <td>0</td>\n      <td>1</td>\n      <td>1</td>\n    </tr>\n    <tr>\n      <th>1</th>\n      <td>37</td>\n      <td>1</td>\n      <td>2</td>\n      <td>130</td>\n      <td>250</td>\n      <td>0</td>\n      <td>1</td>\n      <td>187</td>\n      <td>0</td>\n      <td>3.5</td>\n      <td>0</td>\n      <td>0</td>\n      <td>2</td>\n      <td>1</td>\n    </tr>\n    <tr>\n      <th>2</th>\n      <td>41</td>\n      <td>0</td>\n      <td>1</td>\n      <td>130</td>\n      <td>204</td>\n      <td>0</td>\n      <td>0</td>\n      <td>172</td>\n      <td>0</td>\n      <td>1.4</td>\n      <td>2</td>\n      <td>0</td>\n      <td>2</td>\n      <td>1</td>\n    </tr>\n    <tr>\n      <th>3</th>\n      <td>56</td>\n      <td>1</td>\n      <td>1</td>\n      <td>120</td>\n      <td>236</td>\n      <td>0</td>\n      <td>1</td>\n      <td>178</td>\n      <td>0</td>\n      <td>0.8</td>\n      <td>2</td>\n      <td>0</td>\n      <td>2</td>\n      <td>1</td>\n    </tr>\n    <tr>\n      <th>4</th>\n      <td>57</td>\n      <td>0</td>\n      <td>0</td>\n      <td>120</td>\n      <td>354</td>\n      <td>0</td>\n      <td>1</td>\n      <td>163</td>\n      <td>1</td>\n      <td>0.6</td>\n      <td>2</td>\n      <td>0</td>\n      <td>2</td>\n      <td>1</td>\n    </tr>\n  </tbody>\n</table>\n</div>"
     },
     "execution_count": 2,
     "metadata": {},
     "output_type": "execute_result"
    }
   ],
   "source": [
    "heart_data_frame = pd.read_csv('heart.csv')\n",
    "heart_data_frame.head()"
   ],
   "metadata": {
    "collapsed": false,
    "ExecuteTime": {
     "end_time": "2024-04-10T11:54:12.981597Z",
     "start_time": "2024-04-10T11:54:12.967009Z"
    }
   },
   "id": "b94274c6e547de13",
   "execution_count": 2
  },
  {
   "cell_type": "code",
   "outputs": [
    {
     "data": {
      "text/plain": "14"
     },
     "execution_count": 3,
     "metadata": {},
     "output_type": "execute_result"
    }
   ],
   "source": [
    "num_features = len(heart_data_frame.columns)\n",
    "num_features"
   ],
   "metadata": {
    "collapsed": false,
    "ExecuteTime": {
     "end_time": "2024-04-10T11:54:12.986104Z",
     "start_time": "2024-04-10T11:54:12.982903Z"
    }
   },
   "id": "8ea0df4b7f01d83",
   "execution_count": 3
  },
  {
   "cell_type": "code",
   "outputs": [
    {
     "name": "stdout",
     "output_type": "stream",
     "text": [
      "age         0\n",
      "sex         0\n",
      "cp          0\n",
      "trtbps      0\n",
      "chol        0\n",
      "fbs         0\n",
      "restecg     0\n",
      "thalachh    0\n",
      "exng        0\n",
      "oldpeak     0\n",
      "slp         0\n",
      "caa         0\n",
      "thall       0\n",
      "output      0\n",
      "dtype: int64\n"
     ]
    }
   ],
   "source": [
    "print(heart_data_frame.isnull().sum())"
   ],
   "metadata": {
    "collapsed": false,
    "ExecuteTime": {
     "end_time": "2024-04-10T11:54:12.991856Z",
     "start_time": "2024-04-10T11:54:12.988136Z"
    }
   },
   "id": "c0ef010379fb4864",
   "execution_count": 4
  },
  {
   "cell_type": "code",
   "outputs": [],
   "source": [
    "def preprocess_inputs(df, label_column):\n",
    "    df = df.copy()\n",
    "    \n",
    "    # Split df into X and y\n",
    "    Y = df[label_column]\n",
    "    X = df.drop(label_column, axis=1)\n",
    "    \n",
    "    X = X.apply(zscore)\n",
    "    \n",
    "    Y = torch.tensor(Y.values, dtype=torch.float32).reshape(-1, 1)\n",
    "    X = torch.tensor(X.values, dtype=torch.float32)\n",
    "    \n",
    "    # Train-test split\n",
    "    trainX, testX, trainY, testY = train_test_split(X, Y, train_size=0.9, shuffle=True, random_state=1)\n",
    "    \n",
    "    return trainX, testX, trainY, testY"
   ],
   "metadata": {
    "collapsed": false,
    "ExecuteTime": {
     "end_time": "2024-04-10T11:54:12.996734Z",
     "start_time": "2024-04-10T11:54:12.993141Z"
    }
   },
   "id": "5c48ed36d6b87c6f",
   "execution_count": 5
  },
  {
   "cell_type": "code",
   "outputs": [],
   "source": [
    "trainX, testX, trainY, testY = preprocess_inputs(heart_data_frame, 'output')"
   ],
   "metadata": {
    "collapsed": false,
    "ExecuteTime": {
     "end_time": "2024-04-10T11:54:13.009498Z",
     "start_time": "2024-04-10T11:54:12.997868Z"
    }
   },
   "id": "b05db260cdcba7ec",
   "execution_count": 6
  },
  {
   "cell_type": "code",
   "outputs": [
    {
     "data": {
      "text/plain": "(tensor([[-0.5918,  0.6810,  0.0320,  ...,  0.9764, -0.7144, -0.5129],\n         [-0.1507,  0.6810,  1.0026,  ..., -2.2746, -0.7144, -0.5129],\n         [ 0.2905, -1.4684, -0.9385,  ...,  0.9764,  0.2651, -0.5129],\n         ...,\n         [-2.7976,  0.6810,  0.0320,  ...,  0.9764, -0.7144, -0.5129],\n         [-0.3713,  0.6810, -0.9385,  ...,  0.9764, -0.7144,  1.1230],\n         [-0.0404,  0.6810,  1.0026,  ...,  0.9764, -0.7144,  1.1230]]),\n tensor([[1.],\n         [1.],\n         [1.],\n         [0.],\n         [1.],\n         [1.],\n         [0.],\n         [0.],\n         [1.],\n         [1.],\n         [0.],\n         [1.],\n         [0.],\n         [0.],\n         [0.],\n         [0.],\n         [1.],\n         [0.],\n         [1.],\n         [1.],\n         [0.],\n         [0.],\n         [1.],\n         [1.],\n         [1.],\n         [1.],\n         [0.],\n         [0.],\n         [0.],\n         [1.],\n         [1.],\n         [1.],\n         [1.],\n         [0.],\n         [1.],\n         [1.],\n         [0.],\n         [1.],\n         [0.],\n         [1.],\n         [1.],\n         [0.],\n         [1.],\n         [0.],\n         [1.],\n         [0.],\n         [0.],\n         [0.],\n         [1.],\n         [1.],\n         [1.],\n         [0.],\n         [1.],\n         [1.],\n         [1.],\n         [1.],\n         [1.],\n         [1.],\n         [0.],\n         [0.],\n         [1.],\n         [0.],\n         [0.],\n         [1.],\n         [0.],\n         [0.],\n         [0.],\n         [1.],\n         [1.],\n         [1.],\n         [0.],\n         [0.],\n         [1.],\n         [0.],\n         [1.],\n         [0.],\n         [0.],\n         [1.],\n         [1.],\n         [0.],\n         [0.],\n         [1.],\n         [1.],\n         [0.],\n         [1.],\n         [0.],\n         [1.],\n         [0.],\n         [0.],\n         [0.],\n         [1.],\n         [0.],\n         [1.],\n         [1.],\n         [0.],\n         [0.],\n         [1.],\n         [0.],\n         [1.],\n         [1.],\n         [0.],\n         [1.],\n         [0.],\n         [0.],\n         [1.],\n         [0.],\n         [1.],\n         [0.],\n         [0.],\n         [1.],\n         [0.],\n         [0.],\n         [1.],\n         [1.],\n         [1.],\n         [1.],\n         [1.],\n         [1.],\n         [1.],\n         [0.],\n         [1.],\n         [0.],\n         [1.],\n         [0.],\n         [1.],\n         [0.],\n         [1.],\n         [0.],\n         [1.],\n         [1.],\n         [0.],\n         [0.],\n         [1.],\n         [0.],\n         [1.],\n         [0.],\n         [0.],\n         [1.],\n         [0.],\n         [1.],\n         [0.],\n         [0.],\n         [1.],\n         [0.],\n         [0.],\n         [0.],\n         [0.],\n         [1.],\n         [0.],\n         [1.],\n         [1.],\n         [0.],\n         [1.],\n         [0.],\n         [1.],\n         [1.],\n         [1.],\n         [0.],\n         [1.],\n         [1.],\n         [0.],\n         [1.],\n         [1.],\n         [1.],\n         [0.],\n         [0.],\n         [1.],\n         [1.],\n         [0.],\n         [0.],\n         [1.],\n         [0.],\n         [1.],\n         [1.],\n         [0.],\n         [1.],\n         [0.],\n         [0.],\n         [1.],\n         [0.],\n         [0.],\n         [0.],\n         [0.],\n         [1.],\n         [0.],\n         [1.],\n         [0.],\n         [0.],\n         [1.],\n         [1.],\n         [0.],\n         [1.],\n         [0.],\n         [1.],\n         [1.],\n         [1.],\n         [0.],\n         [1.],\n         [0.],\n         [1.],\n         [1.],\n         [0.],\n         [1.],\n         [1.],\n         [0.],\n         [0.],\n         [1.],\n         [1.],\n         [0.],\n         [1.],\n         [1.],\n         [1.],\n         [1.],\n         [0.],\n         [1.],\n         [1.],\n         [0.],\n         [1.],\n         [1.],\n         [1.],\n         [1.],\n         [1.],\n         [0.],\n         [0.],\n         [1.],\n         [0.],\n         [1.],\n         [1.],\n         [0.],\n         [1.],\n         [0.],\n         [1.],\n         [1.],\n         [1.],\n         [1.],\n         [1.],\n         [1.],\n         [1.],\n         [1.],\n         [0.],\n         [1.],\n         [1.],\n         [1.],\n         [0.],\n         [0.],\n         [0.],\n         [0.],\n         [1.],\n         [1.],\n         [1.],\n         [1.],\n         [1.],\n         [0.],\n         [0.],\n         [1.],\n         [1.],\n         [1.],\n         [0.],\n         [0.],\n         [0.],\n         [0.],\n         [0.],\n         [0.],\n         [1.],\n         [1.],\n         [1.],\n         [1.],\n         [0.],\n         [0.],\n         [1.],\n         [0.],\n         [1.]]))"
     },
     "execution_count": 7,
     "metadata": {},
     "output_type": "execute_result"
    }
   ],
   "source": [
    "trainX, trainY"
   ],
   "metadata": {
    "collapsed": false,
    "ExecuteTime": {
     "end_time": "2024-04-10T11:54:13.019657Z",
     "start_time": "2024-04-10T11:54:13.010663Z"
    }
   },
   "id": "786cb092f45cc242",
   "execution_count": 7
  },
  {
   "cell_type": "code",
   "outputs": [
    {
     "data": {
      "text/plain": "(tensor([[ 0.8419, -1.4684, -0.9385,  1.6206, -1.5898, -0.4176, -1.0058, -0.2032,\n          -0.6966,  4.4519, -2.2746,  2.2241,  1.1230],\n         [ 0.1802,  0.6810,  0.0320, -0.0927, -0.4882, -0.4176, -1.0058,  0.5839,\n          -0.6966, -0.8969,  0.9764, -0.7144,  1.1230],\n         [-0.7021,  0.6810, -0.9385, -0.0927,  0.1882,  2.3944, -1.0058,  0.0154,\n           1.4355, -0.8969,  0.9764,  1.2446,  1.1230],\n         [ 0.6213,  0.6810, -0.9385, -0.0927, -0.7781, -0.4176, -1.0058, -0.7717,\n           1.4355,  1.1736, -0.6491,  1.2446,  1.1230],\n         [-0.4816,  0.6810, -0.9385,  1.0495, -0.0631, -0.4176, -1.0058, -0.9466,\n          -0.6966,  1.3461, -0.6491, -0.7144,  1.1230],\n         [ 0.9522,  0.6810, -0.9385,  0.4784, -1.1453, -0.4176, -1.0058, -0.2469,\n           1.4355,  2.5539,  0.9764,  1.2446,  1.1230],\n         [ 0.1802,  0.6810, -0.9385, -0.0927,  0.7099,  2.3944, -1.0058, -2.0399,\n           1.4355,  0.4835, -2.2746, -0.7144,  1.1230],\n         [-0.9227, -1.4684, -0.9385,  0.3642, -0.0631, -0.4176, -1.0058,  0.1029,\n           1.4355, -0.8969, -0.6491, -0.7144, -0.5129],\n         [ 0.6213,  0.6810, -0.9385,  0.7640,  0.6906, -0.4176, -1.0058, -0.3344,\n           1.4355,  1.5187, -0.6491,  1.2446,  1.1230],\n         [-1.6947, -1.4684,  1.0026,  0.3642, -0.5076, -0.4176,  0.8990,  0.1029,\n          -0.6966, -0.8969, -0.6491, -0.7144, -0.5129],\n         [ 1.2831,  0.6810, -0.9385, -0.6639,  1.0771, -0.4176, -1.0058,  0.0592,\n          -0.6966, -0.5518, -0.6491, -0.7144, -0.5129],\n         [ 1.6139,  0.6810,  1.0026,  0.4784,  0.1495, -0.4176, -1.0058, -0.1595,\n          -0.6966,  0.8285, -0.6491,  2.2241,  1.1230],\n         [ 0.4008, -1.4684,  0.0320,  0.2499,  1.4057,  2.3944, -1.0058,  0.1029,\n          -0.6966, -0.8969,  0.9764,  1.2446, -0.5129],\n         [ 1.0625,  0.6810,  1.0026, -0.3783,  1.2124, -0.4176,  0.8990, -0.8154,\n           1.4355,  0.6560, -0.6491, -0.7144,  1.1230],\n         [-0.5918,  0.6810,  1.0026, -0.6639, -1.1260, -0.4176,  0.8990, -0.4656,\n          -0.6966,  0.8285, -0.6491,  2.2241,  1.1230],\n         [ 0.2905, -1.4684,  0.0320, -0.0927, -0.1984, -0.4176, -1.0058,  1.0650,\n          -0.6966, -0.8969, -0.6491,  0.2651, -0.5129],\n         [-2.2462,  0.6810,  1.9731, -0.7781, -1.2419, -0.4176, -1.0058,  1.0650,\n          -0.6966, -0.8969,  0.9764, -0.7144, -0.5129],\n         [ 0.9522, -1.4684, -0.9385,  1.0495,  3.1063, -0.4176, -1.0058,  0.1904,\n          -0.6966,  2.5539, -0.6491,  2.2241,  1.1230],\n         [-1.2536,  0.6810, -0.9385,  1.0495,  0.0142, -0.4176,  0.8990,  0.9338,\n          -0.6966,  0.3972,  0.9764, -0.7144, -0.5129],\n         [ 0.5110,  0.6810,  1.9731,  2.1918,  0.8066, -0.4176, -1.0058,  0.4090,\n          -0.6966, -0.7243, -0.6491, -0.7144,  1.1230],\n         [-0.7021, -1.4684,  1.0026, -0.0927,  0.5553, -0.4176,  0.8990, -0.4656,\n          -0.6966, -0.7243,  0.9764, -0.7144, -0.5129],\n         [ 1.5036,  0.6810, -0.9385,  0.7068, -1.0294,  2.3944,  0.8990, -0.3781,\n          -0.6966,  2.0363, -0.6491,  1.2446,  1.1230],\n         [-0.0404,  0.6810,  1.0026, -0.6639,  0.2268, -0.4176, -1.0058, -0.1157,\n          -0.6966, -0.5518, -0.6491, -0.7144,  1.1230],\n         [-1.1433, -1.4684,  1.0026, -0.7781, -0.0824, -0.4176,  0.8990, -0.0283,\n          -0.6966, -0.6381, -0.6491,  0.2651, -0.5129],\n         [-1.4742, -1.4684,  1.0026, -1.1208,  0.4201, -0.4176, -1.0058,  0.9775,\n           1.4355, -0.8969,  0.9764, -0.7144, -0.5129],\n         [-1.8050,  0.6810,  1.0026,  0.3642, -1.3772, -0.4176,  0.8990,  1.0212,\n          -0.6966, -0.8969,  0.9764,  3.2036, -0.5129],\n         [ 0.4008,  0.6810, -0.9385, -0.2070, -0.5849, -0.4176, -1.0058, -0.8154,\n           1.4355,  1.0011, -0.6491,  2.2241,  1.1230],\n         [-1.4742,  0.6810,  1.0026, -1.1208,  0.0722, -0.4176,  0.8990,  1.2836,\n          -0.6966, -0.8969,  0.9764, -0.7144, -0.5129],\n         [-0.3713,  0.6810,  1.0026, -1.2350, -1.3772, -0.4176,  0.8990, -1.1653,\n          -0.6966, -0.3792,  0.9764, -0.7144, -0.5129],\n         [-0.0404, -1.4684,  1.0026, -1.3492,  0.4007, -0.4176, -1.0058,  0.7589,\n          -0.6966, -0.8969,  0.9764, -0.7144, -0.5129],\n         [-2.1359,  0.6810,  0.0320, -0.5496, -1.0487, -0.4176,  0.8990,  1.0650,\n          -0.6966, -0.8969,  0.9764, -0.7144, -0.5129]]),\n tensor([[0.],\n         [1.],\n         [0.],\n         [0.],\n         [0.],\n         [0.],\n         [0.],\n         [1.],\n         [0.],\n         [1.],\n         [1.],\n         [0.],\n         [0.],\n         [0.],\n         [0.],\n         [0.],\n         [1.],\n         [0.],\n         [1.],\n         [0.],\n         [1.],\n         [0.],\n         [1.],\n         [1.],\n         [1.],\n         [1.],\n         [0.],\n         [1.],\n         [1.],\n         [1.],\n         [1.]]))"
     },
     "execution_count": 8,
     "metadata": {},
     "output_type": "execute_result"
    }
   ],
   "source": [
    "testX, testY"
   ],
   "metadata": {
    "collapsed": false,
    "ExecuteTime": {
     "end_time": "2024-04-10T11:54:13.027575Z",
     "start_time": "2024-04-10T11:54:13.020600Z"
    }
   },
   "id": "ae01757ae72b2627",
   "execution_count": 8
  },
  {
   "cell_type": "code",
   "outputs": [],
   "source": [],
   "metadata": {
    "collapsed": false,
    "ExecuteTime": {
     "end_time": "2024-04-10T11:54:13.030289Z",
     "start_time": "2024-04-10T11:54:13.028633Z"
    }
   },
   "id": "21ab81bf5526892b",
   "execution_count": 8
  },
  {
   "cell_type": "markdown",
   "source": [
    "### Model"
   ],
   "metadata": {
    "collapsed": false
   },
   "id": "9b74864a3c848b84"
  },
  {
   "cell_type": "code",
   "outputs": [],
   "source": [
    "class BinaryClassifier(nn.Module):\n",
    "    def __init__(self, input_dim):\n",
    "        super(BinaryClassifier, self).__init__()\n",
    "\n",
    "        self.fc1 = nn.Linear(input_dim, 64) \n",
    "        self.fc2 = nn.Linear(64, 32)\n",
    "        self.fc3 = nn.Linear(32, 1)\n",
    "\n",
    "    def forward(self, x):\n",
    "        x = torch.relu(self.fc1(x))\n",
    "        x = torch.relu(self.fc2(x))\n",
    "        x = torch.sigmoid(self.fc3(x))\n",
    "        return x"
   ],
   "metadata": {
    "collapsed": false,
    "ExecuteTime": {
     "end_time": "2024-04-10T12:00:49.627831Z",
     "start_time": "2024-04-10T12:00:49.622049Z"
    }
   },
   "id": "cf3c3762c625acc1",
   "execution_count": 38
  },
  {
   "cell_type": "code",
   "outputs": [],
   "source": [
    "input_dim = trainX.shape[1]"
   ],
   "metadata": {
    "collapsed": false,
    "ExecuteTime": {
     "end_time": "2024-04-10T12:00:49.813661Z",
     "start_time": "2024-04-10T12:00:49.811234Z"
    }
   },
   "id": "5070ab71cf98c3a7",
   "execution_count": 39
  },
  {
   "cell_type": "code",
   "outputs": [],
   "source": [
    "model = BinaryClassifier(input_dim)\n",
    "criterion = nn.BCELoss()\n",
    "optimizer = optim.SGD(model.parameters(), lr = 0.01)"
   ],
   "metadata": {
    "collapsed": false,
    "ExecuteTime": {
     "end_time": "2024-04-10T12:00:49.953984Z",
     "start_time": "2024-04-10T12:00:49.949970Z"
    }
   },
   "id": "520ce6e94a718db9",
   "execution_count": 40
  },
  {
   "cell_type": "code",
   "outputs": [],
   "source": [
    "epochs = 1000\n",
    "losses = []"
   ],
   "metadata": {
    "collapsed": false,
    "ExecuteTime": {
     "end_time": "2024-04-10T12:00:50.053515Z",
     "start_time": "2024-04-10T12:00:50.050982Z"
    }
   },
   "id": "e0bb3426ed7bf86a",
   "execution_count": 41
  },
  {
   "cell_type": "code",
   "outputs": [
    {
     "name": "stdout",
     "output_type": "stream",
     "text": [
      "Epoch 100/1000 - Loss : 0.6731\n",
      "Epoch 200/1000 - Loss : 0.6411\n",
      "Epoch 300/1000 - Loss : 0.5994\n",
      "Epoch 400/1000 - Loss : 0.5462\n",
      "Epoch 500/1000 - Loss : 0.4888\n",
      "Epoch 600/1000 - Loss : 0.4398\n",
      "Epoch 700/1000 - Loss : 0.4051\n",
      "Epoch 800/1000 - Loss : 0.3822\n",
      "Epoch 900/1000 - Loss : 0.3667\n",
      "Epoch 1000/1000 - Loss : 0.3551\n",
      "Test Loss : 0.3069\n"
     ]
    }
   ],
   "source": [
    "# training the model\n",
    "for epoch in range(epochs):\n",
    "    optimizer.zero_grad()\n",
    "\n",
    "    outputs = model(trainX)\n",
    "    loss = criterion(outputs, trainY)\n",
    "    loss.backward()\n",
    "\n",
    "    optimizer.step()\n",
    "\n",
    "    if (epoch + 1) % 100 == 0:\n",
    "        print(f'Epoch {epoch + 1}/{epochs} - Loss : {loss.item():.4f}')\n",
    "\n",
    "    losses.append(loss.item())\n",
    "\n",
    "model.eval()\n",
    "with torch.no_grad():\n",
    "    test_outputs = model(testX)\n",
    "    test_loss = criterion(test_outputs, testY)\n",
    "    print(f'Test Loss : {test_loss.item():.4f}')\n"
   ],
   "metadata": {
    "collapsed": false,
    "ExecuteTime": {
     "end_time": "2024-04-10T12:00:50.804081Z",
     "start_time": "2024-04-10T12:00:50.249908Z"
    }
   },
   "id": "bf0b57028a3d1a5b",
   "execution_count": 42
  },
  {
   "cell_type": "code",
   "outputs": [
    {
     "name": "stderr",
     "output_type": "stream",
     "text": [
      "No artists with labels found to put in legend.  Note that artists whose label start with an underscore are ignored when legend() is called with no argument.\n"
     ]
    },
    {
     "data": {
      "text/plain": "<Figure size 800x500 with 1 Axes>",
      "image/png": "[encoded data removed]"
     },
     "metadata": {},
     "output_type": "display_data"
    }
   ],
   "source": [
    "plt.figure(figsize=(8, 5))\n",
    "plt.plot(range(1, epochs + 1), losses)\n",
    "plt.xlabel('Epoch')\n",
    "plt.ylabel('Loss')\n",
    "plt.title('Loss vs Epoch')\n",
    "plt.legend()\n",
    "plt.show()"
   ],
   "metadata": {
    "collapsed": false,
    "ExecuteTime": {
     "end_time": "2024-04-10T12:00:50.923546Z",
     "start_time": "2024-04-10T12:00:50.805505Z"
    }
   },
   "id": "6f7f88e7ffbcb7f8",
   "execution_count": 43
  },
  {
   "cell_type": "code",
   "outputs": [],
   "source": [],
   "metadata": {
    "collapsed": false
   },
   "id": "582448d9908353e",
   "execution_count": null
  },
  {
   "cell_type": "code",
   "outputs": [],
   "source": [],
   "metadata": {
    "collapsed": false
   },
   "id": "bdf1b176af071ae2",
   "execution_count": null
  }
 ],
 "metadata": {
  "kernelspec": {
   "display_name": "Python 3",
   "language": "python",
   "name": "python3"
  },
  "language_info": {
   "codemirror_mode": {
    "name": "ipython",
    "version": 2
   },
   "file_extension": ".py",
   "mimetype": "text/x-python",
   "name": "python",
   "nbconvert_exporter": "python",
   "pygments_lexer": "ipython2",
   "version": "2.7.6"
  }
 },
 "nbformat": 4,
 "nbformat_minor": 5
}
