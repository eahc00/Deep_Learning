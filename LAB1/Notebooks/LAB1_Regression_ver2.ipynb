{
 "cells": [
  {
   "cell_type": "code",
   "execution_count": 35,
   "id": "initial_id",
   "metadata": {
    "collapsed": true,
    "ExecuteTime": {
     "end_time": "2024-04-10T11:48:51.268501Z",
     "start_time": "2024-04-10T11:48:51.263328Z"
    }
   },
   "outputs": [],
   "source": [
    "import pandas as pd\n",
    "import matplotlib.pyplot as plt\n",
    "\n",
    "from sklearn.model_selection import train_test_split\n",
    "import torch\n",
    "import torch.nn as nn\n",
    "import torch.optim as optim\n",
    "from scipy.stats import zscore"
   ]
  },
  {
   "cell_type": "markdown",
   "source": [
    "### DataPreprocessing"
   ],
   "metadata": {
    "collapsed": false
   },
   "id": "574dd0d6d3149cd1"
  },
  {
   "cell_type": "code",
   "outputs": [
    {
     "data": {
      "text/plain": "   fixed acidity  volatile acidity  citric acid  residual sugar  chlorides  \\\n0            7.0              0.27         0.36            20.7      0.045   \n1            6.3              0.30         0.34             1.6      0.049   \n2            8.1              0.28         0.40             6.9      0.050   \n3            7.2              0.23         0.32             8.5      0.058   \n4            7.2              0.23         0.32             8.5      0.058   \n\n   free sulfur dioxide  total sulfur dioxide  density    pH  sulphates  \\\n0                 45.0                 170.0   1.0010  3.00       0.45   \n1                 14.0                 132.0   0.9940  3.30       0.49   \n2                 30.0                  97.0   0.9951  3.26       0.44   \n3                 47.0                 186.0   0.9956  3.19       0.40   \n4                 47.0                 186.0   0.9956  3.19       0.40   \n\n   alcohol  quality  \n0      8.8        6  \n1      9.5        6  \n2     10.1        6  \n3      9.9        6  \n4      9.9        6  ",
      "text/html": "<div>\n<style scoped>\n    .dataframe tbody tr th:only-of-type {\n        vertical-align: middle;\n    }\n\n    .dataframe tbody tr th {\n        vertical-align: top;\n    }\n\n    .dataframe thead th {\n        text-align: right;\n    }\n</style>\n<table border=\"1\" class=\"dataframe\">\n  <thead>\n    <tr style=\"text-align: right;\">\n      <th></th>\n      <th>fixed acidity</th>\n      <th>volatile acidity</th>\n      <th>citric acid</th>\n      <th>residual sugar</th>\n      <th>chlorides</th>\n      <th>free sulfur dioxide</th>\n      <th>total sulfur dioxide</th>\n      <th>density</th>\n      <th>pH</th>\n      <th>sulphates</th>\n      <th>alcohol</th>\n      <th>quality</th>\n    </tr>\n  </thead>\n  <tbody>\n    <tr>\n      <th>0</th>\n      <td>7.0</td>\n      <td>0.27</td>\n      <td>0.36</td>\n      <td>20.7</td>\n      <td>0.045</td>\n      <td>45.0</td>\n      <td>170.0</td>\n      <td>1.0010</td>\n      <td>3.00</td>\n      <td>0.45</td>\n      <td>8.8</td>\n      <td>6</td>\n    </tr>\n    <tr>\n      <th>1</th>\n      <td>6.3</td>\n      <td>0.30</td>\n      <td>0.34</td>\n      <td>1.6</td>\n      <td>0.049</td>\n      <td>14.0</td>\n      <td>132.0</td>\n      <td>0.9940</td>\n      <td>3.30</td>\n      <td>0.49</td>\n      <td>9.5</td>\n      <td>6</td>\n    </tr>\n    <tr>\n      <th>2</th>\n      <td>8.1</td>\n      <td>0.28</td>\n      <td>0.40</td>\n      <td>6.9</td>\n      <td>0.050</td>\n      <td>30.0</td>\n      <td>97.0</td>\n      <td>0.9951</td>\n      <td>3.26</td>\n      <td>0.44</td>\n      <td>10.1</td>\n      <td>6</td>\n    </tr>\n    <tr>\n      <th>3</th>\n      <td>7.2</td>\n      <td>0.23</td>\n      <td>0.32</td>\n      <td>8.5</td>\n      <td>0.058</td>\n      <td>47.0</td>\n      <td>186.0</td>\n      <td>0.9956</td>\n      <td>3.19</td>\n      <td>0.40</td>\n      <td>9.9</td>\n      <td>6</td>\n    </tr>\n    <tr>\n      <th>4</th>\n      <td>7.2</td>\n      <td>0.23</td>\n      <td>0.32</td>\n      <td>8.5</td>\n      <td>0.058</td>\n      <td>47.0</td>\n      <td>186.0</td>\n      <td>0.9956</td>\n      <td>3.19</td>\n      <td>0.40</td>\n      <td>9.9</td>\n      <td>6</td>\n    </tr>\n  </tbody>\n</table>\n</div>"
     },
     "execution_count": 36,
     "metadata": {},
     "output_type": "execute_result"
    }
   ],
   "source": [
    "wine_data_frame = pd.read_csv('winequality-white.csv', sep = \";\")\n",
    "wine_data_frame.head()"
   ],
   "metadata": {
    "collapsed": false,
    "ExecuteTime": {
     "end_time": "2024-04-10T11:48:51.587426Z",
     "start_time": "2024-04-10T11:48:51.571501Z"
    }
   },
   "id": "b94274c6e547de13",
   "execution_count": 36
  },
  {
   "cell_type": "code",
   "outputs": [
    {
     "data": {
      "text/plain": "12"
     },
     "execution_count": 37,
     "metadata": {},
     "output_type": "execute_result"
    }
   ],
   "source": [
    "num_features = len(wine_data_frame.columns)\n",
    "num_features"
   ],
   "metadata": {
    "collapsed": false,
    "ExecuteTime": {
     "end_time": "2024-04-10T11:48:51.743221Z",
     "start_time": "2024-04-10T11:48:51.739971Z"
    }
   },
   "id": "8ea0df4b7f01d83",
   "execution_count": 37
  },
  {
   "cell_type": "code",
   "outputs": [
    {
     "name": "stdout",
     "output_type": "stream",
     "text": [
      "fixed acidity           0\n",
      "volatile acidity        0\n",
      "citric acid             0\n",
      "residual sugar          0\n",
      "chlorides               0\n",
      "free sulfur dioxide     0\n",
      "total sulfur dioxide    0\n",
      "density                 0\n",
      "pH                      0\n",
      "sulphates               0\n",
      "alcohol                 0\n",
      "quality                 0\n",
      "dtype: int64\n"
     ]
    }
   ],
   "source": [
    "print(wine_data_frame.isnull().sum())"
   ],
   "metadata": {
    "collapsed": false,
    "ExecuteTime": {
     "end_time": "2024-04-10T11:48:51.851069Z",
     "start_time": "2024-04-10T11:48:51.846737Z"
    }
   },
   "id": "c0ef010379fb4864",
   "execution_count": 38
  },
  {
   "cell_type": "code",
   "outputs": [],
   "source": [
    "def preprocess_inputs(df, label_column):\n",
    "    df = df.copy()\n",
    "    \n",
    "    # Split df into X and y\n",
    "    Y = df[label_column]\n",
    "    X = df.drop(label_column, axis=1)\n",
    "    \n",
    "    X = X.apply(zscore)\n",
    "    \n",
    "    Y = torch.tensor(Y.values, dtype=torch.float32).reshape(-1, 1)\n",
    "    X = torch.tensor(X.values, dtype=torch.float32)\n",
    "    \n",
    "    # Train-test split\n",
    "    trainX, testX, trainY, testY = train_test_split(X, Y, train_size=0.8, shuffle=True, random_state=1)\n",
    "    \n",
    "    return trainX, testX, trainY, testY"
   ],
   "metadata": {
    "collapsed": false,
    "ExecuteTime": {
     "end_time": "2024-04-10T11:48:51.982279Z",
     "start_time": "2024-04-10T11:48:51.977992Z"
    }
   },
   "id": "5c48ed36d6b87c6f",
   "execution_count": 39
  },
  {
   "cell_type": "code",
   "outputs": [],
   "source": [
    "trainX, testX, trainY, testY = preprocess_inputs(wine_data_frame, 'quality')"
   ],
   "metadata": {
    "collapsed": false,
    "ExecuteTime": {
     "end_time": "2024-04-10T11:48:52.146144Z",
     "start_time": "2024-04-10T11:48:52.132963Z"
    }
   },
   "id": "b05db260cdcba7ec",
   "execution_count": 40
  },
  {
   "cell_type": "code",
   "outputs": [
    {
     "data": {
      "text/plain": "(tensor([[-0.6575,  0.0175, -0.3652,  ...,  1.6010,  0.8777,  0.3947],\n         [ 0.5276, -0.4787,  0.2959,  ...,  0.4751, -0.7873,  1.3700],\n         [-0.3020,  1.0097, -1.5222,  ..., -0.5184, -0.9626, -0.2554],\n         ...,\n         [ 1.8313, -0.8755,  0.7091,  ..., -0.8495,  1.4034,  0.4760],\n         [-0.8945, -0.5779, -0.6958,  ...,  0.1439, -0.7873,  0.1509],\n         [ 0.4091, -0.4787,  0.3786,  ..., -0.6508, -0.4368, -1.2306]]),\n tensor([[6.],\n         [8.],\n         [6.],\n         ...,\n         [4.],\n         [5.],\n         [6.]]))"
     },
     "execution_count": 41,
     "metadata": {},
     "output_type": "execute_result"
    }
   ],
   "source": [
    "trainX, trainY"
   ],
   "metadata": {
    "collapsed": false,
    "ExecuteTime": {
     "end_time": "2024-04-10T11:48:52.567517Z",
     "start_time": "2024-04-10T11:48:52.561834Z"
    }
   },
   "id": "786cb092f45cc242",
   "execution_count": 41
  },
  {
   "cell_type": "code",
   "outputs": [
    {
     "data": {
      "text/plain": "(tensor([[-0.7760,  1.0097, -1.2742,  ...,  2.2634,  1.9292, -1.0681],\n         [-0.5390, -0.2802,  3.3536,  ...,  0.1439, -0.6121, -1.0681],\n         [-0.5390, -0.2802,  0.2959,  ..., -0.0548, -0.7873,  0.4760],\n         ...,\n         [ 0.4091,  0.2159, -0.6131,  ...,  0.0115,  0.6148,  0.6386],\n         [-0.1834, -1.6693,  0.0480,  ...,  1.5348, -0.7873, -0.9868],\n         [-0.3020,  0.1167, -0.1999,  ...,  0.3426,  0.9653,  1.6950]]),\n tensor([[4.],\n         [6.],\n         [7.],\n         [5.],\n         [7.],\n         [6.],\n         [6.],\n         [6.],\n         [7.],\n         [5.],\n         [6.],\n         [7.],\n         [6.],\n         [6.],\n         [6.],\n         [5.],\n         [7.],\n         [6.],\n         [5.],\n         [6.],\n         [5.],\n         [5.],\n         [6.],\n         [7.],\n         [6.],\n         [5.],\n         [4.],\n         [5.],\n         [6.],\n         [7.],\n         [5.],\n         [6.],\n         [7.],\n         [6.],\n         [7.],\n         [5.],\n         [5.],\n         [6.],\n         [6.],\n         [7.],\n         [5.],\n         [4.],\n         [6.],\n         [6.],\n         [6.],\n         [5.],\n         [7.],\n         [5.],\n         [5.],\n         [6.],\n         [5.],\n         [5.],\n         [5.],\n         [6.],\n         [7.],\n         [6.],\n         [6.],\n         [5.],\n         [6.],\n         [5.],\n         [7.],\n         [5.],\n         [6.],\n         [5.],\n         [7.],\n         [7.],\n         [5.],\n         [6.],\n         [8.],\n         [5.],\n         [6.],\n         [6.],\n         [6.],\n         [5.],\n         [5.],\n         [7.],\n         [6.],\n         [5.],\n         [5.],\n         [6.],\n         [6.],\n         [6.],\n         [5.],\n         [7.],\n         [5.],\n         [5.],\n         [5.],\n         [7.],\n         [6.],\n         [5.],\n         [5.],\n         [6.],\n         [6.],\n         [7.],\n         [6.],\n         [7.],\n         [7.],\n         [6.],\n         [5.],\n         [6.],\n         [5.],\n         [7.],\n         [5.],\n         [6.],\n         [7.],\n         [5.],\n         [7.],\n         [6.],\n         [5.],\n         [7.],\n         [4.],\n         [5.],\n         [5.],\n         [6.],\n         [6.],\n         [6.],\n         [6.],\n         [8.],\n         [7.],\n         [5.],\n         [5.],\n         [6.],\n         [6.],\n         [6.],\n         [6.],\n         [5.],\n         [6.],\n         [5.],\n         [6.],\n         [4.],\n         [6.],\n         [6.],\n         [6.],\n         [6.],\n         [7.],\n         [6.],\n         [5.],\n         [6.],\n         [6.],\n         [5.],\n         [6.],\n         [6.],\n         [5.],\n         [6.],\n         [5.],\n         [5.],\n         [8.],\n         [6.],\n         [7.],\n         [5.],\n         [6.],\n         [6.],\n         [7.],\n         [5.],\n         [4.],\n         [6.],\n         [7.],\n         [8.],\n         [6.],\n         [6.],\n         [5.],\n         [5.],\n         [5.],\n         [6.],\n         [6.],\n         [5.],\n         [6.],\n         [6.],\n         [8.],\n         [5.],\n         [5.],\n         [6.],\n         [6.],\n         [7.],\n         [6.],\n         [6.],\n         [6.],\n         [5.],\n         [6.],\n         [5.],\n         [7.],\n         [7.],\n         [5.],\n         [5.],\n         [7.],\n         [5.],\n         [8.],\n         [6.],\n         [5.],\n         [6.],\n         [6.],\n         [7.],\n         [7.],\n         [6.],\n         [6.],\n         [8.],\n         [6.],\n         [5.],\n         [7.],\n         [6.],\n         [6.],\n         [5.],\n         [6.],\n         [5.],\n         [6.],\n         [6.],\n         [7.],\n         [6.],\n         [7.],\n         [6.],\n         [6.],\n         [7.],\n         [5.],\n         [6.],\n         [5.],\n         [5.],\n         [6.],\n         [5.],\n         [6.],\n         [5.],\n         [7.],\n         [6.],\n         [5.],\n         [7.],\n         [5.],\n         [7.],\n         [6.],\n         [4.],\n         [5.],\n         [6.],\n         [4.],\n         [6.],\n         [6.],\n         [5.],\n         [6.],\n         [6.],\n         [6.],\n         [6.],\n         [7.],\n         [5.],\n         [5.],\n         [6.],\n         [6.],\n         [6.],\n         [6.],\n         [7.],\n         [5.],\n         [5.],\n         [6.],\n         [6.],\n         [6.],\n         [6.],\n         [5.],\n         [7.],\n         [5.],\n         [6.],\n         [7.],\n         [5.],\n         [5.],\n         [5.],\n         [5.],\n         [6.],\n         [6.],\n         [6.],\n         [6.],\n         [6.],\n         [7.],\n         [6.],\n         [7.],\n         [5.],\n         [6.],\n         [7.],\n         [6.],\n         [7.],\n         [6.],\n         [6.],\n         [7.],\n         [6.],\n         [8.],\n         [6.],\n         [6.],\n         [6.],\n         [5.],\n         [7.],\n         [5.],\n         [6.],\n         [6.],\n         [6.],\n         [6.],\n         [4.],\n         [6.],\n         [6.],\n         [5.],\n         [6.],\n         [6.],\n         [6.],\n         [5.],\n         [8.],\n         [5.],\n         [6.],\n         [6.],\n         [6.],\n         [6.],\n         [5.],\n         [7.],\n         [6.],\n         [6.],\n         [7.],\n         [6.],\n         [7.],\n         [5.],\n         [7.],\n         [5.],\n         [5.],\n         [6.],\n         [7.],\n         [6.],\n         [6.],\n         [6.],\n         [8.],\n         [5.],\n         [7.],\n         [7.],\n         [6.],\n         [7.],\n         [5.],\n         [6.],\n         [6.],\n         [7.],\n         [8.],\n         [6.],\n         [7.],\n         [5.],\n         [6.],\n         [6.],\n         [5.],\n         [6.],\n         [6.],\n         [5.],\n         [8.],\n         [6.],\n         [7.],\n         [5.],\n         [6.],\n         [7.],\n         [6.],\n         [5.],\n         [6.],\n         [6.],\n         [5.],\n         [5.],\n         [7.],\n         [6.],\n         [5.],\n         [7.],\n         [5.],\n         [6.],\n         [6.],\n         [4.],\n         [7.],\n         [6.],\n         [7.],\n         [6.],\n         [5.],\n         [7.],\n         [6.],\n         [6.],\n         [6.],\n         [5.],\n         [4.],\n         [6.],\n         [6.],\n         [6.],\n         [7.],\n         [5.],\n         [5.],\n         [7.],\n         [5.],\n         [6.],\n         [7.],\n         [5.],\n         [4.],\n         [6.],\n         [5.],\n         [6.],\n         [7.],\n         [6.],\n         [6.],\n         [7.],\n         [5.],\n         [5.],\n         [4.],\n         [8.],\n         [8.],\n         [8.],\n         [6.],\n         [5.],\n         [6.],\n         [6.],\n         [5.],\n         [5.],\n         [6.],\n         [6.],\n         [6.],\n         [4.],\n         [5.],\n         [7.],\n         [5.],\n         [7.],\n         [6.],\n         [6.],\n         [7.],\n         [6.],\n         [6.],\n         [6.],\n         [4.],\n         [5.],\n         [5.],\n         [5.],\n         [6.],\n         [7.],\n         [5.],\n         [6.],\n         [7.],\n         [7.],\n         [6.],\n         [5.],\n         [5.],\n         [5.],\n         [6.],\n         [5.],\n         [5.],\n         [5.],\n         [7.],\n         [5.],\n         [6.],\n         [6.],\n         [6.],\n         [6.],\n         [4.],\n         [6.],\n         [7.],\n         [6.],\n         [7.],\n         [5.],\n         [7.],\n         [6.],\n         [6.],\n         [6.],\n         [5.],\n         [7.],\n         [7.],\n         [6.],\n         [6.],\n         [6.],\n         [6.],\n         [6.],\n         [6.],\n         [7.],\n         [5.],\n         [6.],\n         [6.],\n         [8.],\n         [6.],\n         [6.],\n         [5.],\n         [6.],\n         [5.],\n         [5.],\n         [5.],\n         [6.],\n         [5.],\n         [5.],\n         [7.],\n         [4.],\n         [5.],\n         [5.],\n         [6.],\n         [6.],\n         [6.],\n         [6.],\n         [7.],\n         [6.],\n         [6.],\n         [6.],\n         [7.],\n         [5.],\n         [6.],\n         [5.],\n         [6.],\n         [8.],\n         [5.],\n         [5.],\n         [5.],\n         [5.],\n         [6.],\n         [7.],\n         [6.],\n         [7.],\n         [6.],\n         [6.],\n         [5.],\n         [5.],\n         [7.],\n         [8.],\n         [6.],\n         [5.],\n         [6.],\n         [7.],\n         [6.],\n         [7.],\n         [6.],\n         [6.],\n         [7.],\n         [7.],\n         [5.],\n         [5.],\n         [6.],\n         [6.],\n         [7.],\n         [5.],\n         [5.],\n         [5.],\n         [6.],\n         [5.],\n         [7.],\n         [6.],\n         [6.],\n         [5.],\n         [4.],\n         [7.],\n         [6.],\n         [6.],\n         [8.],\n         [5.],\n         [5.],\n         [7.],\n         [6.],\n         [5.],\n         [6.],\n         [4.],\n         [7.],\n         [7.],\n         [5.],\n         [8.],\n         [6.],\n         [5.],\n         [5.],\n         [7.],\n         [6.],\n         [6.],\n         [7.],\n         [6.],\n         [6.],\n         [6.],\n         [5.],\n         [6.],\n         [6.],\n         [7.],\n         [5.],\n         [5.],\n         [5.],\n         [6.],\n         [6.],\n         [5.],\n         [7.],\n         [5.],\n         [5.],\n         [7.],\n         [7.],\n         [6.],\n         [5.],\n         [6.],\n         [6.],\n         [6.],\n         [6.],\n         [5.],\n         [5.],\n         [6.],\n         [6.],\n         [5.],\n         [5.],\n         [7.],\n         [5.],\n         [6.],\n         [7.],\n         [7.],\n         [5.],\n         [7.],\n         [8.],\n         [8.],\n         [6.],\n         [6.],\n         [6.],\n         [5.],\n         [6.],\n         [6.],\n         [6.],\n         [5.],\n         [6.],\n         [5.],\n         [5.],\n         [6.],\n         [6.],\n         [6.],\n         [6.],\n         [6.],\n         [6.],\n         [7.],\n         [5.],\n         [6.],\n         [5.],\n         [6.],\n         [5.],\n         [7.],\n         [7.],\n         [6.],\n         [8.],\n         [7.],\n         [8.],\n         [5.],\n         [5.],\n         [6.],\n         [6.],\n         [6.],\n         [6.],\n         [5.],\n         [6.],\n         [6.],\n         [6.],\n         [8.],\n         [6.],\n         [5.],\n         [6.],\n         [6.],\n         [7.],\n         [6.],\n         [6.],\n         [5.],\n         [6.],\n         [7.],\n         [6.],\n         [6.],\n         [7.],\n         [5.],\n         [6.],\n         [6.],\n         [5.],\n         [7.],\n         [3.],\n         [6.],\n         [7.],\n         [6.],\n         [6.],\n         [5.],\n         [7.],\n         [6.],\n         [5.],\n         [5.],\n         [5.],\n         [7.],\n         [6.],\n         [6.],\n         [6.],\n         [6.],\n         [6.],\n         [6.],\n         [6.],\n         [6.],\n         [7.],\n         [5.],\n         [7.],\n         [7.],\n         [5.],\n         [5.],\n         [5.],\n         [7.],\n         [6.],\n         [6.],\n         [6.],\n         [6.],\n         [5.],\n         [5.],\n         [7.],\n         [5.],\n         [6.],\n         [5.],\n         [5.],\n         [6.],\n         [8.],\n         [6.],\n         [7.],\n         [6.],\n         [6.],\n         [5.],\n         [8.],\n         [5.],\n         [4.],\n         [6.],\n         [5.],\n         [6.],\n         [7.],\n         [5.],\n         [6.],\n         [6.],\n         [6.],\n         [4.],\n         [6.],\n         [5.],\n         [5.],\n         [5.],\n         [6.],\n         [8.],\n         [7.],\n         [6.],\n         [7.],\n         [5.],\n         [6.],\n         [6.],\n         [5.],\n         [7.],\n         [7.],\n         [6.],\n         [6.],\n         [3.],\n         [5.],\n         [5.],\n         [6.],\n         [5.],\n         [5.],\n         [5.],\n         [4.],\n         [5.],\n         [6.],\n         [6.],\n         [6.],\n         [5.],\n         [5.],\n         [7.],\n         [6.],\n         [6.],\n         [6.],\n         [6.],\n         [5.],\n         [7.],\n         [7.],\n         [5.],\n         [8.],\n         [6.],\n         [8.],\n         [6.],\n         [5.],\n         [6.],\n         [7.],\n         [5.],\n         [7.],\n         [5.],\n         [6.],\n         [5.],\n         [5.],\n         [5.],\n         [5.],\n         [6.],\n         [6.],\n         [6.],\n         [5.],\n         [5.],\n         [6.],\n         [6.],\n         [6.],\n         [4.],\n         [6.],\n         [6.],\n         [6.],\n         [5.],\n         [4.],\n         [6.],\n         [6.],\n         [4.],\n         [5.],\n         [7.],\n         [6.],\n         [5.],\n         [5.],\n         [6.],\n         [6.],\n         [6.],\n         [7.],\n         [6.],\n         [5.],\n         [6.],\n         [7.],\n         [7.],\n         [7.],\n         [5.],\n         [6.],\n         [6.],\n         [5.],\n         [4.],\n         [6.],\n         [6.],\n         [6.],\n         [8.],\n         [5.],\n         [6.],\n         [7.],\n         [7.],\n         [6.],\n         [5.],\n         [7.],\n         [6.],\n         [7.],\n         [6.],\n         [7.],\n         [7.],\n         [6.],\n         [4.],\n         [7.],\n         [6.],\n         [7.],\n         [6.],\n         [6.],\n         [5.],\n         [5.],\n         [6.],\n         [6.],\n         [6.],\n         [5.],\n         [5.],\n         [6.],\n         [6.],\n         [5.],\n         [6.],\n         [6.],\n         [7.],\n         [7.],\n         [5.],\n         [6.],\n         [5.],\n         [7.],\n         [5.],\n         [5.],\n         [6.],\n         [5.],\n         [5.],\n         [7.],\n         [6.],\n         [6.],\n         [6.],\n         [6.],\n         [6.],\n         [7.],\n         [4.],\n         [5.],\n         [6.],\n         [8.],\n         [8.],\n         [7.],\n         [7.],\n         [6.],\n         [5.],\n         [7.],\n         [5.],\n         [5.],\n         [6.],\n         [7.],\n         [6.],\n         [7.],\n         [6.],\n         [6.],\n         [5.],\n         [5.],\n         [7.],\n         [6.],\n         [7.],\n         [6.],\n         [6.],\n         [5.],\n         [6.],\n         [6.],\n         [7.],\n         [7.],\n         [8.],\n         [6.],\n         [6.],\n         [5.],\n         [6.],\n         [5.],\n         [7.],\n         [5.],\n         [5.],\n         [6.],\n         [7.],\n         [6.],\n         [7.],\n         [6.],\n         [5.],\n         [6.],\n         [5.],\n         [6.],\n         [5.],\n         [6.],\n         [5.],\n         [6.],\n         [7.],\n         [6.],\n         [6.],\n         [5.],\n         [7.],\n         [6.],\n         [6.],\n         [7.],\n         [6.],\n         [5.],\n         [6.],\n         [8.],\n         [5.],\n         [6.],\n         [6.],\n         [6.],\n         [5.],\n         [5.],\n         [7.],\n         [6.],\n         [5.],\n         [5.],\n         [6.],\n         [6.],\n         [6.],\n         [6.],\n         [6.],\n         [7.],\n         [7.],\n         [6.],\n         [6.],\n         [7.],\n         [6.],\n         [8.],\n         [7.],\n         [6.],\n         [7.],\n         [6.],\n         [6.],\n         [5.],\n         [5.],\n         [6.],\n         [5.],\n         [7.],\n         [5.],\n         [6.],\n         [5.],\n         [6.],\n         [6.],\n         [5.],\n         [6.],\n         [5.],\n         [6.],\n         [6.],\n         [5.],\n         [6.],\n         [4.],\n         [5.],\n         [5.],\n         [5.],\n         [5.],\n         [5.],\n         [6.],\n         [6.],\n         [5.],\n         [5.],\n         [5.],\n         [7.],\n         [6.],\n         [6.],\n         [6.],\n         [7.],\n         [5.],\n         [6.],\n         [7.],\n         [8.]]))"
     },
     "execution_count": 42,
     "metadata": {},
     "output_type": "execute_result"
    }
   ],
   "source": [
    "testX, testY"
   ],
   "metadata": {
    "collapsed": false,
    "ExecuteTime": {
     "end_time": "2024-04-10T11:48:53.025313Z",
     "start_time": "2024-04-10T11:48:53.002712Z"
    }
   },
   "id": "ae01757ae72b2627",
   "execution_count": 42
  },
  {
   "cell_type": "code",
   "outputs": [],
   "source": [],
   "metadata": {
    "collapsed": false,
    "ExecuteTime": {
     "end_time": "2024-04-10T11:48:56.124062Z",
     "start_time": "2024-04-10T11:48:56.122129Z"
    }
   },
   "id": "21ab81bf5526892b",
   "execution_count": 42
  },
  {
   "cell_type": "markdown",
   "source": [
    "### Model"
   ],
   "metadata": {
    "collapsed": false
   },
   "id": "9b74864a3c848b84"
  },
  {
   "cell_type": "code",
   "outputs": [],
   "source": [
    "class MLP(nn.Module):\n",
    "    def __init__(self, input_dim):\n",
    "        super(MLP, self).__init__()\n",
    "\n",
    "        self.fc1 = nn.Linear(input_dim, 128)\n",
    "        self.fc2 = nn.Linear(128, 64)\n",
    "        self.fc3 = nn.Linear(64, 32)\n",
    "        self.fc4 = nn.Linear(32, 1)\n",
    "\n",
    "    def forward(self, x):\n",
    "        x = torch.relu(self.fc1(x))\n",
    "        x = torch.dropout(x, 0.4, True)\n",
    "        x = torch.relu(self.fc2(x))\n",
    "        x = torch.relu(self.fc3(x))\n",
    "        x = self.fc4(x)\n",
    "        return x"
   ],
   "metadata": {
    "collapsed": false,
    "ExecuteTime": {
     "end_time": "2024-04-10T11:48:56.561849Z",
     "start_time": "2024-04-10T11:48:56.557082Z"
    }
   },
   "id": "cf3c3762c625acc1",
   "execution_count": 43
  },
  {
   "cell_type": "code",
   "outputs": [],
   "source": [
    "input_dim = trainX.shape[1]"
   ],
   "metadata": {
    "collapsed": false,
    "ExecuteTime": {
     "end_time": "2024-04-10T11:48:56.776874Z",
     "start_time": "2024-04-10T11:48:56.773933Z"
    }
   },
   "id": "5070ab71cf98c3a7",
   "execution_count": 44
  },
  {
   "cell_type": "code",
   "outputs": [],
   "source": [
    "model = MLP(input_dim)\n",
    "criterion = nn.MSELoss()\n",
    "optimizer = optim.Adam(model.parameters(), lr = 0.001)"
   ],
   "metadata": {
    "collapsed": false,
    "ExecuteTime": {
     "end_time": "2024-04-10T11:48:56.989747Z",
     "start_time": "2024-04-10T11:48:56.984511Z"
    }
   },
   "id": "520ce6e94a718db9",
   "execution_count": 45
  },
  {
   "cell_type": "code",
   "outputs": [],
   "source": [
    "epochs = 1000\n",
    "losses = []"
   ],
   "metadata": {
    "collapsed": false,
    "ExecuteTime": {
     "end_time": "2024-04-10T11:48:57.198508Z",
     "start_time": "2024-04-10T11:48:57.195927Z"
    }
   },
   "id": "e0bb3426ed7bf86a",
   "execution_count": 46
  },
  {
   "cell_type": "code",
   "outputs": [
    {
     "name": "stdout",
     "output_type": "stream",
     "text": [
      "Epoch 100/1000 - Loss : 2.59\n",
      "Epoch 200/1000 - Loss : 1.53\n",
      "Epoch 300/1000 - Loss : 1.08\n",
      "Epoch 400/1000 - Loss : 0.87\n",
      "Epoch 500/1000 - Loss : 0.64\n",
      "Epoch 600/1000 - Loss : 0.55\n",
      "Epoch 700/1000 - Loss : 0.51\n",
      "Epoch 800/1000 - Loss : 0.50\n",
      "Epoch 900/1000 - Loss : 0.48\n",
      "Epoch 1000/1000 - Loss : 0.49\n",
      "Test Loss : 0.53\n"
     ]
    }
   ],
   "source": [
    "# training the model\n",
    "for epoch in range(epochs):\n",
    "    optimizer.zero_grad()\n",
    "\n",
    "    outputs = model(trainX)\n",
    "    loss = criterion(outputs, trainY)\n",
    "    loss.backward()\n",
    "\n",
    "    optimizer.step()\n",
    "\n",
    "    if (epoch + 1) % 100 == 0:\n",
    "        print(f'Epoch {epoch + 1}/{epochs} - Loss : {loss.item():.2f}')\n",
    "\n",
    "    losses.append(loss.item())\n",
    "\n",
    "model.eval()\n",
    "with torch.no_grad():\n",
    "    test_outputs = model(testX)\n",
    "    test_loss = criterion(test_outputs, testY)\n",
    "    print(f'Test Loss : {test_loss.item():.2f}')\n"
   ],
   "metadata": {
    "collapsed": false,
    "ExecuteTime": {
     "end_time": "2024-04-10T11:49:08.444531Z",
     "start_time": "2024-04-10T11:48:57.396572Z"
    }
   },
   "id": "bf0b57028a3d1a5b",
   "execution_count": 47
  },
  {
   "cell_type": "code",
   "outputs": [
    {
     "name": "stderr",
     "output_type": "stream",
     "text": [
      "No artists with labels found to put in legend.  Note that artists whose label start with an underscore are ignored when legend() is called with no argument.\n"
     ]
    },
    {
     "data": {
      "text/plain": "<Figure size 800x500 with 1 Axes>",
      "image/png": "[encoded data removed]"
     },
     "metadata": {},
     "output_type": "display_data"
    }
   ],
   "source": [
    "plt.figure(figsize=(8, 5))\n",
    "plt.plot(range(1, epochs + 1), losses)\n",
    "plt.xlabel('Epoch')\n",
    "plt.ylabel('Loss')\n",
    "plt.title('Loss vs Epoch')\n",
    "plt.legend()\n",
    "plt.show()"
   ],
   "metadata": {
    "collapsed": false,
    "ExecuteTime": {
     "end_time": "2024-04-10T11:49:08.565212Z",
     "start_time": "2024-04-10T11:49:08.446108Z"
    }
   },
   "id": "6f7f88e7ffbcb7f8",
   "execution_count": 48
  },
  {
   "cell_type": "code",
   "outputs": [],
   "source": [],
   "metadata": {
    "collapsed": false,
    "ExecuteTime": {
     "end_time": "2024-04-10T11:49:08.568181Z",
     "start_time": "2024-04-10T11:49:08.566462Z"
    }
   },
   "id": "582448d9908353e",
   "execution_count": 48
  },
  {
   "cell_type": "code",
   "outputs": [],
   "source": [],
   "metadata": {
    "collapsed": false,
    "ExecuteTime": {
     "end_time": "2024-04-10T08:16:31.086628Z",
     "start_time": "2024-04-10T08:16:31.084722Z"
    }
   },
   "id": "bdf1b176af071ae2",
   "execution_count": 15
  }
 ],
 "metadata": {
  "kernelspec": {
   "display_name": "Python 3",
   "language": "python",
   "name": "python3"
  },
  "language_info": {
   "codemirror_mode": {
    "name": "ipython",
    "version": 2
   },
   "file_extension": ".py",
   "mimetype": "text/x-python",
   "name": "python",
   "nbconvert_exporter": "python",
   "pygments_lexer": "ipython2",
   "version": "2.7.6"
  }
 },
 "nbformat": 4,
 "nbformat_minor": 5
}
